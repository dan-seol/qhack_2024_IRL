{
 "cells": [
  {
   "cell_type": "code",
   "execution_count": 4,
   "id": "abea5dee-0749-43b6-8745-d480dc890654",
   "metadata": {},
   "outputs": [
    {
     "name": "stdin",
     "output_type": "stream",
     "text": [
      "RPN expression:  3 6 2 + * 4 - 3 7 + \n"
     ]
    },
    {
     "name": "stdout",
     "output_type": "stream",
     "text": [
      "6.0+2.0\n",
      "3.0*8.0\n",
      "24.0-4.0\n",
      "3.0+7.0\n",
      "20.0\n"
     ]
    }
   ],
   "source": [
    "#classical rpn calculator\n",
    "# https://scipython.com/book/chapter-4-the-core-python-language-ii/problems/p42/a-reverse-polish-notation-calculator/\n",
    "import sys\n",
    "\n",
    "def get_operands(stack):\n",
    "    \"\"\" Pop two operands from the stack and return them. \"\"\"\n",
    "    return stack.pop(), stack.pop()\n",
    "\n",
    "def op_plus(stack):\n",
    "    x, y = get_operands(stack)\n",
    "    print(f'{y}+{x}')\n",
    "    stack.append(x + y)\n",
    "\n",
    "def op_minus(stack):\n",
    "    x, y = get_operands(stack)\n",
    "    print(f'{y}-{x}')\n",
    "    stack.append(y - x)\n",
    "\n",
    "def op_multiply(stack):\n",
    "    x, y = get_operands(stack)\n",
    "    print(f'{y}*{x}')\n",
    "    stack.append(x * y)\n",
    "\n",
    "def op_divide(stack):\n",
    "    x, y = get_operands(stack)\n",
    "    print(f'{y}/{x}')\n",
    "    stack.append(y / x)\n",
    "\n",
    "def op_power(stack):\n",
    "    x, y = get_operands(stack)\n",
    "    stack.append(y ** x)\n",
    "\n",
    "# A dictionary mapping operator tokens to the evaluation functions\n",
    "operators = {'+': op_plus,\n",
    "             '-': op_minus,\n",
    "             '*': op_multiply,\n",
    "             '/': op_divide,\n",
    "             '**': op_power}\n",
    "\n",
    "# Initialize an empty stack and get the user's RPN expression, split into tokens\n",
    "stack, tokens = [], input('RPN expression:').strip().split()\n",
    "for token in tokens:\n",
    "    if token in operators:\n",
    "        # Operate with the top two numbers on the stack\n",
    "        operators[token](stack)\n",
    "    else:\n",
    "        # We encountered a number: push it onto the top of the stack\n",
    "        stack.append(float(token))\n",
    "\n",
    "# Output the answer\n",
    "print(stack[0])\n"
   ]
  },
  {
   "cell_type": "code",
   "execution_count": 1,
   "id": "e5860914-22e2-4471-88a5-c0ce3c0dea81",
   "metadata": {},
   "outputs": [
    {
     "ename": "KeyboardInterrupt",
     "evalue": "Interrupted by user",
     "output_type": "error",
     "traceback": [
      "\u001b[0;31m---------------------------------------------------------------------------\u001b[0m",
      "\u001b[0;31mKeyboardInterrupt\u001b[0m                         Traceback (most recent call last)",
      "Cell \u001b[0;32mIn[1], line 50\u001b[0m\n\u001b[1;32m     43\u001b[0m operators \u001b[38;5;241m=\u001b[39m {\u001b[38;5;124m'\u001b[39m\u001b[38;5;124m+\u001b[39m\u001b[38;5;124m'\u001b[39m: op_plus,\n\u001b[1;32m     44\u001b[0m              \u001b[38;5;124m'\u001b[39m\u001b[38;5;124m-\u001b[39m\u001b[38;5;124m'\u001b[39m: op_minus,\n\u001b[1;32m     45\u001b[0m              \u001b[38;5;124m'\u001b[39m\u001b[38;5;124m*\u001b[39m\u001b[38;5;124m'\u001b[39m: op_multiply,\n\u001b[1;32m     46\u001b[0m              \u001b[38;5;124m'\u001b[39m\u001b[38;5;124m/\u001b[39m\u001b[38;5;124m'\u001b[39m: op_divide}\n\u001b[1;32m     47\u001b[0m              \u001b[38;5;66;03m#'**': op_power}\u001b[39;00m\n\u001b[1;32m     48\u001b[0m \n\u001b[1;32m     49\u001b[0m \u001b[38;5;66;03m# Initialize an empty stack and get the user's RPN expression, split into tokens\u001b[39;00m\n\u001b[0;32m---> 50\u001b[0m stack, q, tokens \u001b[38;5;241m=\u001b[39m [], deque(), \u001b[38;5;28;43minput\u001b[39;49m\u001b[43m(\u001b[49m\u001b[38;5;124;43m'\u001b[39;49m\u001b[38;5;124;43mRPN expression:\u001b[39;49m\u001b[38;5;124;43m'\u001b[39;49m\u001b[43m)\u001b[49m\u001b[38;5;241m.\u001b[39mstrip()\u001b[38;5;241m.\u001b[39msplit()\n\u001b[1;32m     51\u001b[0m \u001b[38;5;28;01mfor\u001b[39;00m token \u001b[38;5;129;01min\u001b[39;00m tokens:\n\u001b[1;32m     52\u001b[0m     \u001b[38;5;28;01mif\u001b[39;00m token \u001b[38;5;129;01min\u001b[39;00m operators:\n\u001b[1;32m     53\u001b[0m         \u001b[38;5;66;03m# Operate with the top two numbers on the stack\u001b[39;00m\n",
      "File \u001b[0;32m~/micromamba/envs/pennylane-codebook/lib/python3.12/site-packages/ipykernel/kernelbase.py:1270\u001b[0m, in \u001b[0;36mKernel.raw_input\u001b[0;34m(self, prompt)\u001b[0m\n\u001b[1;32m   1268\u001b[0m     msg \u001b[38;5;241m=\u001b[39m \u001b[38;5;124m\"\u001b[39m\u001b[38;5;124mraw_input was called, but this frontend does not support input requests.\u001b[39m\u001b[38;5;124m\"\u001b[39m\n\u001b[1;32m   1269\u001b[0m     \u001b[38;5;28;01mraise\u001b[39;00m StdinNotImplementedError(msg)\n\u001b[0;32m-> 1270\u001b[0m \u001b[38;5;28;01mreturn\u001b[39;00m \u001b[38;5;28;43mself\u001b[39;49m\u001b[38;5;241;43m.\u001b[39;49m\u001b[43m_input_request\u001b[49m\u001b[43m(\u001b[49m\n\u001b[1;32m   1271\u001b[0m \u001b[43m    \u001b[49m\u001b[38;5;28;43mstr\u001b[39;49m\u001b[43m(\u001b[49m\u001b[43mprompt\u001b[49m\u001b[43m)\u001b[49m\u001b[43m,\u001b[49m\n\u001b[1;32m   1272\u001b[0m \u001b[43m    \u001b[49m\u001b[38;5;28;43mself\u001b[39;49m\u001b[38;5;241;43m.\u001b[39;49m\u001b[43m_parent_ident\u001b[49m\u001b[43m[\u001b[49m\u001b[38;5;124;43m\"\u001b[39;49m\u001b[38;5;124;43mshell\u001b[39;49m\u001b[38;5;124;43m\"\u001b[39;49m\u001b[43m]\u001b[49m\u001b[43m,\u001b[49m\n\u001b[1;32m   1273\u001b[0m \u001b[43m    \u001b[49m\u001b[38;5;28;43mself\u001b[39;49m\u001b[38;5;241;43m.\u001b[39;49m\u001b[43mget_parent\u001b[49m\u001b[43m(\u001b[49m\u001b[38;5;124;43m\"\u001b[39;49m\u001b[38;5;124;43mshell\u001b[39;49m\u001b[38;5;124;43m\"\u001b[39;49m\u001b[43m)\u001b[49m\u001b[43m,\u001b[49m\n\u001b[1;32m   1274\u001b[0m \u001b[43m    \u001b[49m\u001b[43mpassword\u001b[49m\u001b[38;5;241;43m=\u001b[39;49m\u001b[38;5;28;43;01mFalse\u001b[39;49;00m\u001b[43m,\u001b[49m\n\u001b[1;32m   1275\u001b[0m \u001b[43m\u001b[49m\u001b[43m)\u001b[49m\n",
      "File \u001b[0;32m~/micromamba/envs/pennylane-codebook/lib/python3.12/site-packages/ipykernel/kernelbase.py:1313\u001b[0m, in \u001b[0;36mKernel._input_request\u001b[0;34m(self, prompt, ident, parent, password)\u001b[0m\n\u001b[1;32m   1310\u001b[0m \u001b[38;5;28;01mexcept\u001b[39;00m \u001b[38;5;167;01mKeyboardInterrupt\u001b[39;00m:\n\u001b[1;32m   1311\u001b[0m     \u001b[38;5;66;03m# re-raise KeyboardInterrupt, to truncate traceback\u001b[39;00m\n\u001b[1;32m   1312\u001b[0m     msg \u001b[38;5;241m=\u001b[39m \u001b[38;5;124m\"\u001b[39m\u001b[38;5;124mInterrupted by user\u001b[39m\u001b[38;5;124m\"\u001b[39m\n\u001b[0;32m-> 1313\u001b[0m     \u001b[38;5;28;01mraise\u001b[39;00m \u001b[38;5;167;01mKeyboardInterrupt\u001b[39;00m(msg) \u001b[38;5;28;01mfrom\u001b[39;00m \u001b[38;5;28;01mNone\u001b[39;00m\n\u001b[1;32m   1314\u001b[0m \u001b[38;5;28;01mexcept\u001b[39;00m \u001b[38;5;167;01mException\u001b[39;00m:\n\u001b[1;32m   1315\u001b[0m     \u001b[38;5;28mself\u001b[39m\u001b[38;5;241m.\u001b[39mlog\u001b[38;5;241m.\u001b[39mwarning(\u001b[38;5;124m\"\u001b[39m\u001b[38;5;124mInvalid Message:\u001b[39m\u001b[38;5;124m\"\u001b[39m, exc_info\u001b[38;5;241m=\u001b[39m\u001b[38;5;28;01mTrue\u001b[39;00m)\n",
      "\u001b[0;31mKeyboardInterrupt\u001b[0m: Interrupted by user"
     ]
    }
   ],
   "source": [
    "#classical rpn calculator template based on\n",
    "# https://scipython.com/book/chapter-4-the-core-python-language-ii/problems/p42/a-reverse-polish-notation-calculator/\n",
    "import sys\n",
    "\n",
    "from collections import deque\n",
    "\n",
    "def get_operands(stack):\n",
    "    \"\"\" Pop two operands from the stack and return them. \"\"\"\n",
    "    return stack.pop(), stack.pop()\n",
    "\n",
    "def op_plus(stack, q):\n",
    "    y, x = get_operands(stack)\n",
    "    print(f'{from_bit_field(x)}+{from_bit_field(y)}')\n",
    "    circuit, specs = add(x, y)\n",
    "    stack.append(circuit())\n",
    "    q.append(specs())\n",
    "\n",
    "def op_minus(stack, q):\n",
    "    y, x = get_operands(stack)\n",
    "    print(f'{from_bit_field(x)}-{from_bit_field(y)}')\n",
    "    circuit, specs = subtract(x, y)\n",
    "    stack.append(circuit())\n",
    "    q.append(specs())\n",
    "\n",
    "def op_multiply(stack, q):\n",
    "    y, x = get_operands(stack)\n",
    "    print(f'{from_bit_field(x)}*{from_bit_field(y)}')\n",
    "    circuit, specs = multiply(x, y)\n",
    "    stack.append(circuit())\n",
    "    q.append(specs())\n",
    "\n",
    "def op_divide(stack, q):\n",
    "    y, x = get_operands(stack)\n",
    "    print(f'{from_bit_field(x)}/{from_bit_field(y)}')\n",
    "    circuit, specs = divide(x, y)\n",
    "    stack.append(circuit())\n",
    "    #q.append(specs())\n",
    "#def op_power(stack):\n",
    "#    x, y = get_operands(stack)\n",
    "#    stack.append(y ** x)\n",
    "\n",
    "# A dictionary mapping operator tokens to the evaluation functions\n",
    "operators = {'+': op_plus,\n",
    "             '-': op_minus,\n",
    "             '*': op_multiply,\n",
    "             '/': op_divide}\n",
    "             #'**': op_power}\n",
    "\n",
    "# Initialize an empty stack and get the user's RPN expression, split into tokens\n",
    "stack, q, tokens = [], deque(), input('RPN expression:').strip().split()\n",
    "for token in tokens:\n",
    "    if token in operators:\n",
    "        # Operate with the top two numbers on the stack\n",
    "        operators[token](stack, q)\n",
    "    else:\n",
    "        # We encountered a number: push it onto the top of the stack\n",
    "        stack.append(int(token))\n",
    "\n",
    "# Output the answer\n",
    "\n",
    "print(from_bit_field(stack[0]))\n"
   ]
  },
  {
   "cell_type": "code",
   "execution_count": null,
   "id": "f9d8f336-c6ee-4894-8199-7c7448e68ac8",
   "metadata": {},
   "outputs": [],
   "source": []
  }
 ],
 "metadata": {
  "kernelspec": {
   "display_name": "Python 3 (ipykernel)",
   "language": "python",
   "name": "python3"
  },
  "language_info": {
   "codemirror_mode": {
    "name": "ipython",
    "version": 3
   },
   "file_extension": ".py",
   "mimetype": "text/x-python",
   "name": "python",
   "nbconvert_exporter": "python",
   "pygments_lexer": "ipython3",
   "version": "3.12.1"
  }
 },
 "nbformat": 4,
 "nbformat_minor": 5
}
